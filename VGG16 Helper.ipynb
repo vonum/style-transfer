{
 "cells": [
  {
   "cell_type": "code",
   "execution_count": 8,
   "metadata": {},
   "outputs": [],
   "source": [
    "import tensorflow as tf\n",
    "\n",
    "import vgg16\n",
    "from images import load_image"
   ]
  },
  {
   "cell_type": "code",
   "execution_count": 4,
   "metadata": {
    "collapsed": true
   },
   "outputs": [],
   "source": [
    "model = vgg16.VGG16()"
   ]
  },
  {
   "cell_type": "code",
   "execution_count": 80,
   "metadata": {},
   "outputs": [],
   "source": [
    "input_image = load_image('data/content/akali.jpg')\n",
    "feed_dict = model.create_feed_dict(input_image)\n",
    "probs = tf.get_default_graph().get_tensor_by_name(\"Softmax:0\")\n",
    "# print(feed_dict)"
   ]
  },
  {
   "cell_type": "code",
   "execution_count": 84,
   "metadata": {},
   "outputs": [
    {
     "name": "stderr",
     "output_type": "stream",
     "text": [
      "/home/vonum/anaconda3/lib/python3.6/site-packages/tensorflow/python/client/session.py:1714: UserWarning: An interactive session is already active. This can cause out-of-memory errors in some cases. You must explicitly call `InteractiveSession.close()` to release resources held by the other session(s).\n",
      "  warnings.warn('An interactive session is already active. This can '\n"
     ]
    }
   ],
   "source": [
    "session = tf.InteractiveSession(graph=model.graph)\n",
    "prediction = session.run(probs, feed_dict)\n",
    "session.close()"
   ]
  },
  {
   "cell_type": "code",
   "execution_count": 85,
   "metadata": {},
   "outputs": [
    {
     "name": "stdout",
     "output_type": "stream",
     "text": [
      "(871155, 3)\n"
     ]
    }
   ],
   "source": [
    "print(prediction.shape)"
   ]
  },
  {
   "cell_type": "code",
   "execution_count": 43,
   "metadata": {},
   "outputs": [
    {
     "data": {
      "text/plain": [
       "['images',\n",
       " 'mul/y',\n",
       " 'mul',\n",
       " 'split/split_dim',\n",
       " 'split',\n",
       " 'sub/y',\n",
       " 'sub',\n",
       " 'sub_1/y',\n",
       " 'sub_1',\n",
       " 'sub_2/y',\n",
       " 'sub_2',\n",
       " 'concat/concat_dim',\n",
       " 'concat',\n",
       " 'conv1_1/filter',\n",
       " 'conv1_1/Conv2D',\n",
       " 'conv1_1/biases',\n",
       " 'conv1_1/BiasAdd',\n",
       " 'conv1_1/conv1_1',\n",
       " 'conv1_2/filter',\n",
       " 'conv1_2/Conv2D',\n",
       " 'conv1_2/biases',\n",
       " 'conv1_2/BiasAdd',\n",
       " 'conv1_2/conv1_2',\n",
       " 'pool1',\n",
       " 'conv2_1/filter',\n",
       " 'conv2_1/Conv2D',\n",
       " 'conv2_1/biases',\n",
       " 'conv2_1/BiasAdd',\n",
       " 'conv2_1/conv2_1',\n",
       " 'conv2_2/filter',\n",
       " 'conv2_2/Conv2D',\n",
       " 'conv2_2/biases',\n",
       " 'conv2_2/BiasAdd',\n",
       " 'conv2_2/conv2_2',\n",
       " 'pool2',\n",
       " 'conv3_1/filter',\n",
       " 'conv3_1/Conv2D',\n",
       " 'conv3_1/biases',\n",
       " 'conv3_1/BiasAdd',\n",
       " 'conv3_1/conv3_1',\n",
       " 'conv3_2/filter',\n",
       " 'conv3_2/Conv2D',\n",
       " 'conv3_2/biases',\n",
       " 'conv3_2/BiasAdd',\n",
       " 'conv3_2/conv3_2',\n",
       " 'conv3_3/filter',\n",
       " 'conv3_3/Conv2D',\n",
       " 'conv3_3/biases',\n",
       " 'conv3_3/BiasAdd',\n",
       " 'conv3_3/conv3_3',\n",
       " 'pool3',\n",
       " 'conv4_1/filter',\n",
       " 'conv4_1/Conv2D',\n",
       " 'conv4_1/biases',\n",
       " 'conv4_1/BiasAdd',\n",
       " 'conv4_1/conv4_1',\n",
       " 'conv4_2/filter',\n",
       " 'conv4_2/Conv2D',\n",
       " 'conv4_2/biases',\n",
       " 'conv4_2/BiasAdd',\n",
       " 'conv4_2/conv4_2',\n",
       " 'conv4_3/filter',\n",
       " 'conv4_3/Conv2D',\n",
       " 'conv4_3/biases',\n",
       " 'conv4_3/BiasAdd',\n",
       " 'conv4_3/conv4_3',\n",
       " 'pool4',\n",
       " 'conv5_1/filter',\n",
       " 'conv5_1/Conv2D',\n",
       " 'conv5_1/biases',\n",
       " 'conv5_1/BiasAdd',\n",
       " 'conv5_1/conv5_1',\n",
       " 'conv5_2/filter',\n",
       " 'conv5_2/Conv2D',\n",
       " 'conv5_2/biases',\n",
       " 'conv5_2/BiasAdd',\n",
       " 'conv5_2/conv5_2',\n",
       " 'conv5_3/filter',\n",
       " 'conv5_3/Conv2D',\n",
       " 'conv5_3/biases',\n",
       " 'conv5_3/BiasAdd',\n",
       " 'conv5_3/conv5_3',\n",
       " 'pool5',\n",
       " 'Reshape/shape',\n",
       " 'Reshape',\n",
       " 'Const',\n",
       " 'Const_1',\n",
       " 'MatMul',\n",
       " 'fc6',\n",
       " 'fc6_relu',\n",
       " 'dropout/Shape',\n",
       " 'dropout/random_uniform/min',\n",
       " 'dropout/random_uniform/range',\n",
       " 'dropout/random_uniform/RandomUniform',\n",
       " 'dropout/random_uniform/mul',\n",
       " 'dropout/random_uniform',\n",
       " 'dropout/add/x',\n",
       " 'dropout/add',\n",
       " 'dropout/Floor',\n",
       " 'dropout/mul/y',\n",
       " 'dropout/mul',\n",
       " 'dropout/mul_1',\n",
       " 'Reshape_1/shape',\n",
       " 'Reshape_1',\n",
       " 'Const_2',\n",
       " 'Const_3',\n",
       " 'MatMul_1',\n",
       " 'fc7',\n",
       " 'fc7_relu',\n",
       " 'dropout_1/Shape',\n",
       " 'dropout_1/random_uniform/min',\n",
       " 'dropout_1/random_uniform/range',\n",
       " 'dropout_1/random_uniform/RandomUniform',\n",
       " 'dropout_1/random_uniform/mul',\n",
       " 'dropout_1/random_uniform',\n",
       " 'dropout_1/add/x',\n",
       " 'dropout_1/add',\n",
       " 'dropout_1/Floor',\n",
       " 'dropout_1/mul/y',\n",
       " 'dropout_1/mul',\n",
       " 'dropout_1/mul_1',\n",
       " 'Reshape_2/shape',\n",
       " 'Reshape_2',\n",
       " 'Const_4',\n",
       " 'Const_5',\n",
       " 'MatMul_2',\n",
       " 'fc8',\n",
       " 'prob',\n",
       " 'init',\n",
       " 'Const_6',\n",
       " 'Shape',\n",
       " 'Rank',\n",
       " 'Shape_1',\n",
       " 'Sub_3/y',\n",
       " 'Sub_3',\n",
       " 'Slice/begin',\n",
       " 'Slice/size',\n",
       " 'Slice',\n",
       " 'concat_1/values_0',\n",
       " 'concat_1/axis',\n",
       " 'concat_1',\n",
       " 'Reshape_3',\n",
       " 'Softmax',\n",
       " 'Reshape_4',\n",
       " 'init_1',\n",
       " 'init_2',\n",
       " 'init_3',\n",
       " 'init_4',\n",
       " 'init_5',\n",
       " 'init_6']"
      ]
     },
     "execution_count": 43,
     "metadata": {},
     "output_type": "execute_result"
    }
   ],
   "source": [
    "model.get_all_layer_names()"
   ]
  }
 ],
 "metadata": {
  "kernelspec": {
   "display_name": "Python 3",
   "language": "python",
   "name": "python3"
  },
  "language_info": {
   "codemirror_mode": {
    "name": "ipython",
    "version": 3
   },
   "file_extension": ".py",
   "mimetype": "text/x-python",
   "name": "python",
   "nbconvert_exporter": "python",
   "pygments_lexer": "ipython3",
   "version": "3.6.3"
  }
 },
 "nbformat": 4,
 "nbformat_minor": 2
}
