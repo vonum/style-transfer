{
 "cells": [
  {
   "cell_type": "code",
   "execution_count": 1,
   "metadata": {
    "collapsed": true
   },
   "outputs": [],
   "source": [
    "%matplotlib inline\n",
    "from IPython.display import Image, display\n",
    "import numpy as np\n",
    "import tensorflow as tf\n",
    "\n",
    "import vgg19\n",
    "from loss import gram_matrix\n",
    "from images import load_image, add_one_dim, image_big"
   ]
  },
  {
   "cell_type": "code",
   "execution_count": 2,
   "metadata": {
    "collapsed": true
   },
   "outputs": [],
   "source": [
    "model_file_path = \"vgg19/vgg19.mat\"\n",
    "net = vgg19.VGG19(model_file_path)"
   ]
  },
  {
   "cell_type": "code",
   "execution_count": 3,
   "metadata": {
    "collapsed": true
   },
   "outputs": [],
   "source": [
    "content_filename = 'data/content/dolphins.jpg'\n",
    "content_image = load_image(content_filename, max_size=None)\n",
    "content_image = add_one_dim(content_image)\n",
    "\n",
    "style_filename = 'data/styles/random-art.jpg'\n",
    "style_image = load_image(style_filename, max_size=300)\n",
    "style_image = add_one_dim(style_image)"
   ]
  },
  {
   "cell_type": "code",
   "execution_count": 4,
   "metadata": {
    "collapsed": true
   },
   "outputs": [],
   "source": [
    "content_layers = ['conv4_2']\n",
    "style_layers = ['relu1_1', 'relu2_1', 'relu3_1', 'relu4_1', 'relu5_1']"
   ]
  },
  {
   "cell_type": "code",
   "execution_count": 5,
   "metadata": {
    "collapsed": true
   },
   "outputs": [],
   "source": [
    "iterations = 10\n",
    "content_layer_weights = [1.0]\n",
    "style_layer_weights = [0.2, 0.2, 0.2, 0.2, 0.2]\n",
    "clw = 5e0\n",
    "slw = 1e4\n",
    "tvlw = 1e-3"
   ]
  },
  {
   "cell_type": "code",
   "execution_count": 6,
   "metadata": {},
   "outputs": [],
   "source": [
    "sess = tf.Session(config=tf.ConfigProto(allow_soft_placement=True))"
   ]
  },
  {
   "cell_type": "code",
   "execution_count": null,
   "metadata": {},
   "outputs": [],
   "source": [
    "from style_transfer2 import StyleTransfer\n",
    "import optimizers\n",
    "\n",
    "st = StyleTransfer(\n",
    "    sess,\n",
    "    net,\n",
    "    iterations,\n",
    "    content_layers,\n",
    "    style_layers,\n",
    "    content_image,\n",
    "    style_image,\n",
    "    content_layer_weights,\n",
    "    style_layer_weights,\n",
    "    clw,\n",
    "    slw,\n",
    "    tvlw,\n",
    "    optimizers.L_BFGS\n",
    ")"
   ]
  },
  {
   "cell_type": "code",
   "execution_count": null,
   "metadata": {},
   "outputs": [
    {
     "name": "stdout",
     "output_type": "stream",
     "text": [
      "Iteration: 0|loss 409108184301568.0|2929928962048.0|39445856256.0|115808176.0\n",
      "Iteration: 1|loss 408998360645632.0|2929634836480.0|39435018240.0|115807992.0\n",
      "Iteration: 2|loss 408559099576320.0|2928479305728.0|39391670272.0|115807264.0\n",
      "Iteration: 3|loss 406808766185472.0|2923849318400.0|39218950144.0|115804296.0\n",
      "Iteration: 4|loss 399910780272640.0|2905575522304.0|38538289152.0|115792544.0\n",
      "Iteration: 5|loss 373939616350208.0|2836244987904.0|35975839744.0|115745976.0\n",
      "Iteration: 6|loss 179124547092480.0|2327800971264.0|16748554240.0|115035664.0\n",
      "Iteration: 7|loss 138431938166784.0|2208048087040.0|12739170304.0|114475600.0\n",
      "Iteration: 8|loss 89102301003776.0|2080339394560.0|7870060544.0|113127808.0\n",
      "Iteration: 9|loss 58035930136576.0|2178878799872.0|4714153472.0|111750376.0\n",
      "Iteration: 10|loss 36585722609664.0|2121182216192.0|2597981184.0|110186464.0\n",
      "Iteration: 11|loss 34107593588736.0|2493293789184.0|2164112384.0|109471328.0\n"
     ]
    }
   ],
   "source": [
    "im = st.run()\n",
    "image_big(im[0])"
   ]
  }
 ],
 "metadata": {
  "kernelspec": {
   "display_name": "Python 3",
   "language": "python",
   "name": "python3"
  },
  "language_info": {
   "codemirror_mode": {
    "name": "ipython",
    "version": 3
   },
   "file_extension": ".py",
   "mimetype": "text/x-python",
   "name": "python",
   "nbconvert_exporter": "python",
   "pygments_lexer": "ipython3",
   "version": "3.6.3"
  }
 },
 "nbformat": 4,
 "nbformat_minor": 2
}
